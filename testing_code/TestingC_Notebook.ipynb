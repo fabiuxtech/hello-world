{
 "cells": [
  {
   "attachments": {},
   "cell_type": "markdown",
   "metadata": {},
   "source": [
    "**# This is a Testing Code dedicated NoteBook for learning purpose.**"
   ]
  },
  {
   "cell_type": "code",
   "execution_count": 95,
   "metadata": {},
   "outputs": [],
   "source": [
    "#learning functions#return statement\n",
    "def a_func():\n",
    "    pass\n",
    "#def maximum(x,y):\n",
    "#    return max(x,y)\n",
    "#print(maximum(100,5))"
   ]
  },
  {
   "cell_type": "code",
   "execution_count": null,
   "metadata": {},
   "outputs": [],
   "source": [
    "#learning functions#tuple/dictionary\n",
    "def various(a=5, *numbers, **phonebook):\n",
    "    print(f'a is {a}')\n",
    "    for item in numbers:\n",
    "        print('Singolo numero:', item)\n",
    "    for name, number in phonebook.items():\n",
    "        print(f'{name}={number}')\n",
    "various(10,1,2,3,4,5,Fabio=343,Francy=339,Kiba=345)\n",
    "def func(a, b=3,c=8):\n",
    "print(f'a is {a} b is {b} c is {c}')\n",
    "func(2,5)\n",
    "func(1,2,3)\n",
    "func(5,c=3,b=6)\n",
    "#def my_word(message='ciao',times=5):\n",
    "#    if message == 'ciao':\n",
    "#        print(f'Messaggio di default \\'{message}\\'',end=\"\")\n",
    "#        print(f' e numero ripetizioni di default \\'{times}\\'')\n",
    "#    else:\n",
    "#        print(message * times)\n",
    "#        print(f'Hai inserito {message} e viene ripetuta {times} volte')\n",
    "#my_word()\n",
    "#my_word('prova', 3)"
   ]
  },
  {
   "cell_type": "code",
   "execution_count": null,
   "metadata": {},
   "outputs": [],
   "source": [
    "#learning functions#MaxNumber/if/elif/else\n",
    "def print_max(a,b):\n",
    "    c = max(a,b)\n",
    "    print('The max is:', c)\n",
    "    if a > b:\n",
    "        print(f'{a} is maximum of {b}.')\n",
    "    elif a == b:\n",
    "        return 'The numbers are equal'\n",
    "    else:\n",
    "        print(f'{b} is maximum of {a},')\n",
    "num1=int(input('Insert the first number: '))\n",
    "num2=int(input('Insert the second number:'))\n",
    "print_max(num1,num2)\n",
    "#print_max(7,5)"
   ]
  },
  {
   "cell_type": "code",
   "execution_count": null,
   "metadata": {},
   "outputs": [],
   "source": [
    "print('Inizio ciclo while')\n",
    "while True:\n",
    "    s = input('Inserisci testo: ') \n",
    "    if s.lower() == 'quit': # questo per far si che il quit venga preso anche se maiuscolo.\n",
    "        print(f'Programma terminato, hai digitato {s} .')\n",
    "        break\n",
    "    if len(s) < 3:\n",
    "        print(f'La parola \\'{s}\\' Ha pochi caratteri, riprova')\n",
    "        continue\n",
    "    print(f'Ottimo, la stringa inserita, \\'{s}\\', ha {len(s)} caratteri')\n",
    "print(\"Ciclo {while} concluso.\")"
   ]
  },
  {
   "cell_type": "code",
   "execution_count": null,
   "metadata": {},
   "outputs": [],
   "source": [
    "from random import randrange\n",
    "x = randrange(1,6)\n",
    "y = list(range(1,6))\n",
    "print(x)\n",
    "print(y)"
   ]
  },
  {
   "cell_type": "code",
   "execution_count": null,
   "metadata": {},
   "outputs": [],
   "source": [
    "for i in range(1,6):\n",
    "    print(i)\n",
    "else:\n",
    "    print('Loop terminato')"
   ]
  },
  {
   "cell_type": "code",
   "execution_count": null,
   "metadata": {},
   "outputs": [],
   "source": [
    "x = ['Ciao','Mi Chiamo','Fabio']\n",
    "for i in x:\n",
    "    print(i)\n",
    "else:\n",
    "    print('Loop Terminato')"
   ]
  }
 ],
 "metadata": {
  "kernelspec": {
   "display_name": "Python 3",
   "language": "python",
   "name": "python3"
  },
  "language_info": {
   "codemirror_mode": {
    "name": "ipython",
    "version": 3
   },
   "file_extension": ".py",
   "mimetype": "text/x-python",
   "name": "python",
   "nbconvert_exporter": "python",
   "pygments_lexer": "ipython3",
   "version": "3.11.3"
  },
  "orig_nbformat": 4
 },
 "nbformat": 4,
 "nbformat_minor": 2
}
